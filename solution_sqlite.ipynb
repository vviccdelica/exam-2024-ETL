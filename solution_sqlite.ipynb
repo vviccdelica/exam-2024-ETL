{
 "cells": [
  {
   "cell_type": "code",
   "execution_count": 12,
   "metadata": {},
   "outputs": [],
   "source": [
    "import pandas as pd\n",
    "import os\n",
    "import sqlite3 as sql3"
   ]
  },
  {
   "cell_type": "code",
   "execution_count": 13,
   "metadata": {},
   "outputs": [],
   "source": [
    "currentdir = os.getcwd()\n",
    "db_path = f\"{currentdir}\\\\S30 ETL Assignment.db\""
   ]
  },
  {
   "cell_type": "code",
   "execution_count": 14,
   "metadata": {},
   "outputs": [],
   "source": [
    "conn = sql3.connect(db_path)\n",
    "with conn:\n",
    "    cur = conn.cursor()\n",
    "    cur.execute(\"\"\"\n",
    "        WITH customer_sales AS (\n",
    "            SELECT\n",
    "                customers.customer_id,\n",
    "                customers.age,\n",
    "                sales_id\n",
    "            FROM customers\n",
    "            INNER JOIN sales\n",
    "                ON sales.customer_id = customers.customer_id\n",
    "            WHERE \n",
    "                customers.age >= 18\n",
    "                AND\n",
    "                customers.age <= 35\n",
    "        )\n",
    "        SELECT\n",
    "            customer_id,\n",
    "            age,\n",
    "            item_name,\n",
    "            SUM(CAST(quantity AS INTEGER)) as order_quantity\n",
    "        FROM orders\n",
    "        INNER JOIN customer_sales\n",
    "            ON customer_sales.sales_id = orders.sales_id\n",
    "        INNER JOIN items\n",
    "            ON items.item_id = orders.item_id\n",
    "        WHERE quantity > 0\n",
    "        GROUP BY 1,2,3\n",
    "        ORDER BY customer_id ASC, quantity DESC\n",
    "    \"\"\")\n",
    "    results = cur.fetchall()"
   ]
  },
  {
   "cell_type": "code",
   "execution_count": 15,
   "metadata": {},
   "outputs": [],
   "source": [
    "# Used Pandas just for exporting to CSV\n",
    "df = pd.DataFrame(results, columns=['customer_id','age','item_name','order_quantity'])\n",
    "df.to_csv('test_python_sqlite3.csv', sep=';', index=False)"
   ]
  }
 ],
 "metadata": {
  "kernelspec": {
   "display_name": "Python 3",
   "language": "python",
   "name": "python3"
  },
  "language_info": {
   "codemirror_mode": {
    "name": "ipython",
    "version": 3
   },
   "file_extension": ".py",
   "mimetype": "text/x-python",
   "name": "python",
   "nbconvert_exporter": "python",
   "pygments_lexer": "ipython3",
   "version": "3.10.4"
  },
  "orig_nbformat": 4
 },
 "nbformat": 4,
 "nbformat_minor": 2
}
