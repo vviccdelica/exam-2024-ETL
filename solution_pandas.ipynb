{
 "cells": [
  {
   "cell_type": "code",
   "execution_count": 11,
   "metadata": {},
   "outputs": [],
   "source": [
    "import pandas as pd\n",
    "import os\n",
    "import sqlite3 as sql3"
   ]
  },
  {
   "cell_type": "code",
   "execution_count": 12,
   "metadata": {},
   "outputs": [
    {
     "name": "stdout",
     "output_type": "stream",
     "text": [
      "c:\\Users\\vic_d\\Documents\\.Career\\jobhungint_2024\\exam_eastvantage\\S30 ETL Assignment.db\n"
     ]
    }
   ],
   "source": [
    "currentdir = os.getcwd()\n",
    "db_path = f\"{currentdir}\\\\S30 ETL Assignment.db\"\n",
    "print(db_path)"
   ]
  },
  {
   "cell_type": "code",
   "execution_count": 13,
   "metadata": {},
   "outputs": [],
   "source": [
    "def tables_extract(db_path):\n",
    "    conn = sql3.connect(db_path)\n",
    "    dfs = {}\n",
    "\n",
    "    query = \"SELECT name FROM sqlite_master WHERE type='table' AND name NOT LIKE 'sqlite_%';\"\n",
    "    tables = pd.read_sql(query, conn)['name'].tolist()\n",
    "\n",
    "    for table in tables:\n",
    "        dfs[table] = pd.read_sql(f\"SELECT * FROM {table}\", conn)\n",
    "\n",
    "    conn.close()\n",
    "    \n",
    "    return dfs"
   ]
  },
  {
   "cell_type": "code",
   "execution_count": 14,
   "metadata": {},
   "outputs": [],
   "source": [
    "dfs = tables_extract(db_path)"
   ]
  },
  {
   "cell_type": "code",
   "execution_count": 15,
   "metadata": {},
   "outputs": [],
   "source": [
    "# Create filtered customer_sales subset\n",
    "df_customers = dfs['customers'][(dfs['customers']['age'] >= 18) & (dfs['customers']['age'] <= 35)]\n",
    "df_customer_sales = df_customers.merge(dfs['sales'], on='customer_id', how='inner')\n",
    "\n",
    "# Create orders_items subset\n",
    "df_orders_items = dfs['orders'].merge(dfs['items'], on='item_id', how='inner')\n",
    "\n",
    "# Process df_orders_items\n",
    "df_orders_items = df_orders_items[df_orders_items['quantity'] > 0]\n",
    "df_orders_items['quantity'] = df_orders_items['quantity'].astype('int64')\n",
    "\n",
    "# Merge customer_sales and df_orders_items ON sales_id\n",
    "df_merged_all = df_customer_sales.merge(df_orders_items, on='sales_id', how='inner')\n",
    "\n",
    "# Aggregate\n",
    "df_final = (df_merged_all.groupby(['customer_id', 'age', 'item_name'])\n",
    "                    .agg(order_quantity=('quantity', 'sum'))\n",
    "                    .reset_index()\n",
    "                    .query('order_quantity > 0')\n",
    "                    .sort_values(by=['customer_id', 'order_quantity'], ascending=[True, False]))\n",
    "\n",
    "df_final.to_csv('test_pandas.csv',sep=';',index=False)\n"
   ]
  },
  {
   "cell_type": "code",
   "execution_count": null,
   "metadata": {},
   "outputs": [],
   "source": []
  }
 ],
 "metadata": {
  "kernelspec": {
   "display_name": "Python 3",
   "language": "python",
   "name": "python3"
  },
  "language_info": {
   "codemirror_mode": {
    "name": "ipython",
    "version": 3
   },
   "file_extension": ".py",
   "mimetype": "text/x-python",
   "name": "python",
   "nbconvert_exporter": "python",
   "pygments_lexer": "ipython3",
   "version": "3.10.4"
  },
  "orig_nbformat": 4
 },
 "nbformat": 4,
 "nbformat_minor": 2
}
